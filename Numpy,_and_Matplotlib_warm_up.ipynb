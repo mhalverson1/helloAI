{
  "nbformat": 4,
  "nbformat_minor": 0,
  "metadata": {
    "colab": {
      "provenance": [],
      "authorship_tag": "ABX9TyOG6uyCJ5/Gz61ylKKvo4t4",
      "include_colab_link": true
    },
    "kernelspec": {
      "name": "python3",
      "display_name": "Python 3"
    },
    "language_info": {
      "name": "python"
    }
  },
  "cells": [
    {
      "cell_type": "markdown",
      "metadata": {
        "id": "view-in-github",
        "colab_type": "text"
      },
      "source": [
        "<a href=\"https://colab.research.google.com/github/mhalverson1/helloAI/blob/main/Numpy%2C_and_Matplotlib_warm_up.ipynb\" target=\"_parent\"><img src=\"https://colab.research.google.com/assets/colab-badge.svg\" alt=\"Open In Colab\"/></a>"
      ]
    },
    {
      "cell_type": "code",
      "execution_count": null,
      "metadata": {
        "colab": {
          "base_uri": "https://localhost:8080/",
          "height": 130
        },
        "id": "S-mYHVWGn6u8",
        "outputId": "5566932c-1eb1-46cb-da68-4f2cd9a00737"
      },
      "outputs": [
        {
          "output_type": "error",
          "ename": "SyntaxError",
          "evalue": "ignored",
          "traceback": [
            "\u001b[0;36m  File \u001b[0;32m\"<ipython-input-10-574c0fe033be>\"\u001b[0;36m, line \u001b[0;32m10\u001b[0m\n\u001b[0;31m    output:\u001b[0m\n\u001b[0m            ^\u001b[0m\n\u001b[0;31mSyntaxError\u001b[0m\u001b[0;31m:\u001b[0m invalid syntax\n"
          ]
        }
      ],
      "source": [
        "import numpy as np\n",
        "#creating 1-dimensional arrays\n",
        "#creating python list\n",
        "list_1 = [3,2,7]\n",
        "arr_1 = np.array(list_1,dtype=np.int16)\n",
        "print(arr_1)\n",
        "#or \n",
        "arr_1=np.array([3,2,7])\n",
        "print(arr_1)\n",
        "output: \n",
        "[3 2 7]\n",
        "#creating array of complex number\n",
        "arr_complex = np.array([1, 2, 3], dtype = complex)\n",
        "print(arr_complex)\n",
        "output:\n",
        "[1.+0.j 2.+0.j 3.+0.j]\n",
        "\n",
        "#creating two-dimensionsal array\n",
        "list_m = [[1, 2, 3], [4, 5, 6], [7, 8, 9]] #nested lists\n",
        "arr_m = np.array(list_m,dtype=np.int16)\n",
        "print(arr_m)\n",
        "output:\n",
        "[[1 2 3]\n",
        " [4 5 6]\n",
        " [7 8 9]]\n",
        "\n",
        " #Creating an array of all zeros\n",
        "arr_0 = np.zeros((2,2))  \n",
        "print(arr_0)\n",
        "output:\n",
        "[[0. 0.]\n",
        " [0. 0.]]\n",
        " # Creating an array of all ones\n",
        "arr_1= np.ones((1,2))    \n",
        "print(arr_1)\n",
        "output:\n",
        "[[1. 1.]]\n",
        "# Creating a constant array\n",
        "arr_c = np.full((2,2), 7) \n",
        "print(arr_c)\n",
        "output:\n",
        "[[7 7]\n",
        " [7 7]]\n",
        " arr_L = np.linspace(0, 5,7)\n",
        "print(arr_L)\n",
        "output:\n",
        "[0.         0.83333333 1.66666667 2.5        3.33333333 4.16666667\n",
        " 5.        ]\n",
        "#observe here dtype('float64')\n",
        "arr_a=np.arange(1, 10,1)\n",
        "print(arr_a)\n",
        "output:\n",
        "[1 2 3 4 5 6 7 8 9]\n",
        "#here dtype('int32')\n",
        "arr_r = np.random.random((2,2))  \n",
        "print(arr_r)\n",
        "output:                 \n",
        "[[0.05736758 0.58044299]\n",
        " [0.57759937 0.85564153]]\n",
        " arr_1= np.random.randint(10,100,7)  \n",
        "print(arr_1)\n",
        "output:                     \n",
        "[43 15 15 62 31 88 69]\n",
        "arr_n= np.random.randn(10)  \n",
        "print(arr_n) \n",
        "output:\n",
        "[ 0.71586489 -0.2929509   0.1952457   1.07499362  0.08089464 -0.18440427\n",
        " -0.00194278  0.2594934   1.8713812  -0.76195258]\n",
        " arr_I = np.eye(2)         Create a 2x2 identity matrix\n",
        "print(arr_I)\n",
        "output:\n",
        "[[1. 0.]\n",
        " [0. 1.]]"
      ]
    },
    {
      "cell_type": "code",
      "source": [
        "#converting list to ndarray \n",
        "import numpy as np\n",
        "x = [1,2,3] \n",
        "a = np.asarray(x) \n",
        "print (a)\n",
        "output:\n",
        "[1 2 3]\n",
        "# ndarray from tuple \n",
        "x_1 = (1,2,3) \n",
        "a_1 = np.asarray(x_1) \n",
        "print (a_1)\n",
        "output:\n",
        "[1 2 3]\n",
        "# ndarray from list of tuples \n",
        "import numpy as np\n",
        "x_2 = [(1,2,3),(4,5)] \n",
        "a_2 = np.asarray(x_2) \n",
        "print (a_2)\n",
        "output:\n",
        "[(1, 2, 3) (4, 5)]"
      ],
      "metadata": {
        "colab": {
          "base_uri": "https://localhost:8080/",
          "height": 130
        },
        "id": "4Pn_1sqwrntV",
        "outputId": "47c7f73e-5240-4516-ed73-82447ef04ac1"
      },
      "execution_count": null,
      "outputs": [
        {
          "output_type": "error",
          "ename": "SyntaxError",
          "evalue": "ignored",
          "traceback": [
            "\u001b[0;36m  File \u001b[0;32m\"<ipython-input-11-725750fec5d9>\"\u001b[0;36m, line \u001b[0;32m6\u001b[0m\n\u001b[0;31m    output:\u001b[0m\n\u001b[0m           ^\u001b[0m\n\u001b[0;31mSyntaxError\u001b[0m\u001b[0;31m:\u001b[0m invalid syntax\n"
          ]
        }
      ]
    },
    {
      "cell_type": "code",
      "source": [
        "import numpy as np \n",
        "arr = np.array([[1,2,3],[4,5,6]]) \n",
        "print (arr.shape)\n",
        "output: \n",
        "(2, 3)\n",
        "#resizing the above array\n",
        "a = np.array([[1,2,3],[4,5,6]]) \n",
        "a.shape = (3,2) \n",
        "print (a)\n",
        "output:\n",
        "[[1 2]\n",
        " [3 4]\n",
        " [5 6]]\n",
        "or \n",
        "a = np.array([[1,2,3],[4,5,6]]) \n",
        "b = a.reshape(3,2) \n",
        "print (b)\n",
        "Output:\n",
        "[[1, 2] \n",
        " [3, 4] \n",
        " [5, 6]]"
      ],
      "metadata": {
        "colab": {
          "base_uri": "https://localhost:8080/",
          "height": 130
        },
        "id": "d-2TzmWKruHg",
        "outputId": "d2cded3e-2834-4013-ef2f-afa4b854767d"
      },
      "execution_count": null,
      "outputs": [
        {
          "output_type": "error",
          "ename": "SyntaxError",
          "evalue": "ignored",
          "traceback": [
            "\u001b[0;36m  File \u001b[0;32m\"<ipython-input-12-4514f53041dc>\"\u001b[0;36m, line \u001b[0;32m4\u001b[0m\n\u001b[0;31m    output:\u001b[0m\n\u001b[0m            ^\u001b[0m\n\u001b[0;31mSyntaxError\u001b[0m\u001b[0;31m:\u001b[0m invalid syntax\n"
          ]
        }
      ]
    },
    {
      "cell_type": "code",
      "source": [
        "import numpy as np \n",
        "x = np.array([[3,2,1],[4,6,1]]) \n",
        "print(x.size)\n",
        "output:\n",
        "6"
      ],
      "metadata": {
        "colab": {
          "base_uri": "https://localhost:8080/",
          "height": 130
        },
        "id": "w5GjZ6oGsQnc",
        "outputId": "7bc3ab30-db93-4100-d506-6f06f92eee8f"
      },
      "execution_count": null,
      "outputs": [
        {
          "output_type": "error",
          "ename": "SyntaxError",
          "evalue": "ignored",
          "traceback": [
            "\u001b[0;36m  File \u001b[0;32m\"<ipython-input-13-b1005beb999e>\"\u001b[0;36m, line \u001b[0;32m4\u001b[0m\n\u001b[0;31m    output:\u001b[0m\n\u001b[0m           ^\u001b[0m\n\u001b[0;31mSyntaxError\u001b[0m\u001b[0;31m:\u001b[0m invalid syntax\n"
          ]
        }
      ]
    },
    {
      "cell_type": "code",
      "source": [
        "import numpy as np \n",
        "a = np.array([[1,2,3],[4,5,6]]) \n",
        "a.itemsize\n",
        "output:\n",
        "4"
      ],
      "metadata": {
        "colab": {
          "base_uri": "https://localhost:8080/",
          "height": 130
        },
        "id": "1cVfdiQdtNhN",
        "outputId": "2d497959-efe4-4249-c768-621dd4770975"
      },
      "execution_count": null,
      "outputs": [
        {
          "output_type": "error",
          "ename": "SyntaxError",
          "evalue": "ignored",
          "traceback": [
            "\u001b[0;36m  File \u001b[0;32m\"<ipython-input-14-dceaaa327bec>\"\u001b[0;36m, line \u001b[0;32m4\u001b[0m\n\u001b[0;31m    output:\u001b[0m\n\u001b[0m           ^\u001b[0m\n\u001b[0;31mSyntaxError\u001b[0m\u001b[0;31m:\u001b[0m invalid syntax\n"
          ]
        }
      ]
    },
    {
      "cell_type": "code",
      "source": [
        "import numpy as np \n",
        "a = np.array([[1,2,3],[4,5,6]]) \n",
        "a.ndim\n",
        "output:\n",
        "2"
      ],
      "metadata": {
        "colab": {
          "base_uri": "https://localhost:8080/",
          "height": 130
        },
        "id": "k3tKB_j5tR9m",
        "outputId": "c17f6ec2-12e0-446b-c012-9b5a87ac38d9"
      },
      "execution_count": null,
      "outputs": [
        {
          "output_type": "error",
          "ename": "SyntaxError",
          "evalue": "ignored",
          "traceback": [
            "\u001b[0;36m  File \u001b[0;32m\"<ipython-input-15-61f0a2e5d22b>\"\u001b[0;36m, line \u001b[0;32m4\u001b[0m\n\u001b[0;31m    output:\u001b[0m\n\u001b[0m           ^\u001b[0m\n\u001b[0;31mSyntaxError\u001b[0m\u001b[0;31m:\u001b[0m invalid syntax\n"
          ]
        }
      ]
    },
    {
      "cell_type": "code",
      "source": [
        "import numpy as np \n",
        "arr = np.array([[1,2,3],[4,5,6]]) \n",
        "print (arr)\n",
        "output: \n",
        "[[1,2,3]\n",
        " [4,5,6]]\n",
        "type(arr)\n",
        "output:\n",
        "numpy.ndarray\n",
        "print(arr.dtype)\n",
        "output:\n",
        "int32"
      ],
      "metadata": {
        "colab": {
          "base_uri": "https://localhost:8080/",
          "height": 130
        },
        "id": "GvCUiYFlta_l",
        "outputId": "493bd87e-37d7-43f8-d71b-b3c63bf2f74d"
      },
      "execution_count": null,
      "outputs": [
        {
          "output_type": "error",
          "ename": "SyntaxError",
          "evalue": "ignored",
          "traceback": [
            "\u001b[0;36m  File \u001b[0;32m\"<ipython-input-16-13075ba1fb9b>\"\u001b[0;36m, line \u001b[0;32m4\u001b[0m\n\u001b[0;31m    output:\u001b[0m\n\u001b[0m            ^\u001b[0m\n\u001b[0;31mSyntaxError\u001b[0m\u001b[0;31m:\u001b[0m invalid syntax\n"
          ]
        }
      ]
    },
    {
      "cell_type": "code",
      "source": [
        "import numpy as np \n",
        "a = np.array([[1,2,3],[4,5,6]]) \n",
        "a.nbytes\n",
        "output:\n",
        "24"
      ],
      "metadata": {
        "colab": {
          "base_uri": "https://localhost:8080/",
          "height": 130
        },
        "id": "m0DBGnwFtjMW",
        "outputId": "5d85798c-7908-4b83-91ed-e994dc71b597"
      },
      "execution_count": null,
      "outputs": [
        {
          "output_type": "error",
          "ename": "SyntaxError",
          "evalue": "ignored",
          "traceback": [
            "\u001b[0;36m  File \u001b[0;32m\"<ipython-input-17-f922d23442f5>\"\u001b[0;36m, line \u001b[0;32m4\u001b[0m\n\u001b[0;31m    output:\u001b[0m\n\u001b[0m           ^\u001b[0m\n\u001b[0;31mSyntaxError\u001b[0m\u001b[0;31m:\u001b[0m invalid syntax\n"
          ]
        }
      ]
    },
    {
      "cell_type": "code",
      "source": [
        "import numpy as np\n",
        "arr = np.arange(10)\n",
        "print(arr)\n",
        "output:\n",
        "[0 1 2 3 4 5 6 7 8 9]\n",
        "#Example-1\n",
        "print(arr[7])\n",
        "or \n",
        "print(arr[-3])\n",
        "output:\n",
        "7\n",
        "#Example-2\n",
        "print(arr[0:5])\n",
        "or \n",
        "print(arr[0:-4])\n",
        "output:\n",
        "[0 1 2 3 4 5]\n",
        "#Example-3\n",
        "print(arr[-4:-1])\n",
        "output:\n",
        "[6 7 8]"
      ],
      "metadata": {
        "colab": {
          "base_uri": "https://localhost:8080/",
          "height": 130
        },
        "id": "IF8yLr3ttnhM",
        "outputId": "6cea2393-9379-4503-a8b1-188aa26fae52"
      },
      "execution_count": null,
      "outputs": [
        {
          "output_type": "error",
          "ename": "SyntaxError",
          "evalue": "ignored",
          "traceback": [
            "\u001b[0;36m  File \u001b[0;32m\"<ipython-input-18-57bcd0a80aaf>\"\u001b[0;36m, line \u001b[0;32m4\u001b[0m\n\u001b[0;31m    output:\u001b[0m\n\u001b[0m           ^\u001b[0m\n\u001b[0;31mSyntaxError\u001b[0m\u001b[0;31m:\u001b[0m invalid syntax\n"
          ]
        }
      ]
    },
    {
      "cell_type": "code",
      "source": [
        "import numpy as np \n",
        "arr = np.arange(10)\n",
        "#Slicing single element\n",
        "slice_arr = arr[2] \n",
        "print (slice_arr)\n",
        "output:\n",
        "[2]\n",
        "#Slicing elements in between indexes\n",
        "print (arr[2:5])\n",
        "or\n",
        "print (arr[-8:-5]) #using negative index\n",
        "output:\n",
        "[2,3,4]\n",
        "#using slice(lower,upper,step) function\n",
        "s = slice(2,7,2) \n",
        "print (arr[s])\n",
        "output:\n",
        "[2,4,6]\n",
        "or\n",
        "slice_arr = arr[2:7:2] \n",
        "print (slice_arr)\n",
        "output:\n",
        "[2,4,6]\n",
        "x= np.array([11,12,13,14,15])\n",
        "print(np.take(x, [0, 3,4]))\n",
        "output:\n",
        "[11 14 15]\n",
        "arr=np.arange(10)\n",
        "#Example-1\n",
        "print(arr[:5])\n",
        "output:\n",
        "[0 1 2 3 4]\n",
        "#Example-2\n",
        "print(arr[5:])\n",
        "output:\n",
        "[5 6 7 8 9]\n",
        "#Example-3\n",
        "print(arr[::2])\n",
        "output:\n",
        "[0 2 4 6 8]"
      ],
      "metadata": {
        "colab": {
          "base_uri": "https://localhost:8080/",
          "height": 130
        },
        "id": "VbatT1XHtzV7",
        "outputId": "1edcfbf0-580e-41ed-8319-6419921c0fa9"
      },
      "execution_count": null,
      "outputs": [
        {
          "output_type": "error",
          "ename": "SyntaxError",
          "evalue": "ignored",
          "traceback": [
            "\u001b[0;36m  File \u001b[0;32m\"<ipython-input-20-92a15beb2073>\"\u001b[0;36m, line \u001b[0;32m6\u001b[0m\n\u001b[0;31m    output:\u001b[0m\n\u001b[0m           ^\u001b[0m\n\u001b[0;31mSyntaxError\u001b[0m\u001b[0;31m:\u001b[0m invalid syntax\n"
          ]
        }
      ]
    },
    {
      "cell_type": "code",
      "source": [
        "import numpy as np \n",
        "arr = np.array([[1,2,3],[3,4,5],[4,5,6]])\n",
        "print (arr)\n",
        "output:\n",
        "[[1 2 3]\n",
        " [3 4 5]\n",
        " [4 5 6]]\n",
        "#Slicing first row\n",
        "print (arr[0:1])\n",
        "output:\n",
        "[[1 2 3]]\n",
        "#slicing last 2 rows\n",
        "print (arr[1:])\n",
        "output:\n",
        "[[3 4 5]\n",
        " [4 5 6]]\n",
        "#slicing three rows and first column\n",
        "print (arr[0:3,0:1])\n",
        "output:\n",
        "[[1]\n",
        " [3]\n",
        " [4]]\n",
        "#slicing 4 from above array\n",
        "print (arr[1:2,1:2])\n",
        "output:\n",
        "[[4]] "
      ],
      "metadata": {
        "colab": {
          "base_uri": "https://localhost:8080/",
          "height": 130
        },
        "id": "jLwZntvmt_99",
        "outputId": "11397c55-6307-48fb-a3a7-db82e4ed7cfd"
      },
      "execution_count": null,
      "outputs": [
        {
          "output_type": "error",
          "ename": "SyntaxError",
          "evalue": "ignored",
          "traceback": [
            "\u001b[0;36m  File \u001b[0;32m\"<ipython-input-21-a49586d70c37>\"\u001b[0;36m, line \u001b[0;32m4\u001b[0m\n\u001b[0;31m    output:\u001b[0m\n\u001b[0m           ^\u001b[0m\n\u001b[0;31mSyntaxError\u001b[0m\u001b[0;31m:\u001b[0m invalid syntax\n"
          ]
        }
      ]
    },
    {
      "cell_type": "code",
      "source": [
        "import numpy as np\n",
        "arr_1 = np.array([1, 2, 3])\n",
        "arr_2 = np.array([2, 3, 4])\n",
        "arr_stack=np.stack((arr_1,arr_2),axis=0)\n",
        "print(arr_stack)\n",
        "print(arr_stack.shape)\n",
        "output:\n",
        "[[1 2 3]\n",
        " [2 3 4]]\n",
        "(2,3)\n",
        "arr_stack=np.stack((arr_1,arr_2),axis=1)\n",
        "print(arr_stack)\n",
        "print(arr_stack.shape)\n",
        "output:\n",
        "[[1 2]\n",
        " [2 3]\n",
        " [3 4]]\n",
        "(3,2)\n",
        "# Generate random arrays\n",
        "arr_1 = np.random.randint(10, size=(2, 2))\n",
        "print(\" arr_1\\n\", arr_1)\n",
        "arr_2 = np.random.randint(10, size=(2, 2))\n",
        "print(\" arr_2\\n\", arr_2)\n",
        "output:\n",
        " arr_1\n",
        " [[0 2]\n",
        " [7 6]]\n",
        " arr_2\n",
        " [[3 7]\n",
        " [1 4]]\n",
        "# Stack arr_2 under arr_1\n",
        "a=np.vstack((arr_1, arr_2))\n",
        "print(a)\n",
        "output:\n",
        "[[0 2]\n",
        " [7 6]\n",
        " [3 7]\n",
        " [1 4]]\n",
        "# Stacking  horizontally\n",
        "b=np.hstack((arr_1, arr_2))\n",
        "print(b)\n",
        "output:\n",
        "[[0 2 3 7]\n",
        " [7 6 1 4]]\n",
        " #continuing above commands\n",
        "#stacking depth wise\n",
        "c=np.dstack((arr_1, arr_2))\n",
        "print(c)\n",
        "output:\n",
        "[[[0 3]\n",
        " [2 7]]\n",
        "[[7 1]\n",
        " [6 4]]]\n",
        " # row_stack()\n",
        "a=np.row_stack((arr_1, arr_2))\n",
        "print(a)\n",
        "output:\n",
        "[[0 2]\n",
        " [7 6]\n",
        " [3 7]\n",
        " [1 4]]\n",
        "# column_stack()\n",
        "b=np.column_stack((arr_1, arr_2))\n",
        "print(b)\n",
        "output:\n",
        "[[0 2 3 7]\n",
        " [7 6 1 4]\n",
        " x = np.arange(9.0)\n",
        "np.split(x, 3)\n",
        "output:\n",
        "[array([0.,  1.,  2.]), array([3.,  4.,  5.]), array([6.,  7.,  8.])]\n",
        " x = np.arange(8.0)\n",
        "np.array_split(x, 3)\n",
        "output:\n",
        "[array([0.,  1.,  2.]), array([3.,  4.,  5.]), array([6.,  7.])]\n",
        "x = np.arange(7.0)\n",
        "np.array_split(x, 3)\n",
        "output:\n",
        "[array([0.,  1.,  2.]), array([3.,  4.]), array([5.,  6.])]\n",
        "#all splitted arrays are not equal in size\n",
        " arr_1 = np.arange(16.0).reshape(4, 4)\n",
        " arr_1\n",
        "output:\n",
        "array([[ 0.,   1.,   2.,   3.],\n",
        "       [ 4.,   5.,   6.,   7.],\n",
        "       [ 8.,   9.,  10.,  11.],\n",
        "       [12.,  13.,  14.,  15.]])\n",
        "np.hsplit(arr_1, 2)\n",
        "output:\n",
        "[array([[  0.,   1.],\n",
        "       [  4.,   5.],\n",
        "       [  8.,   9.],\n",
        "       [12.,  13.]]),\n",
        " array([[  2.,   3.],\n",
        "       [  6.,   7.],\n",
        "       [10.,  11.],\n",
        "       [14.,  15.]])]\n",
        "np.hsplit(arr_1, np.array([3, 6]))\n",
        "output:\n",
        "[array([[ 0.,   1.,   2.],\n",
        "       [ 4.,   5.,   6.],\n",
        "       [ 8.,   9.,  10.],\n",
        "       [12.,  13.,  14.]]),\n",
        " array([[ 3.],\n",
        "       [ 7.],\n",
        "       [11.],\n",
        "       [15.]]),\n",
        " array([], shape=(4, 0), dtype=float64)]\n",
        " arr_1= np.arange(16.0).reshape(4, 4)\n",
        "arr_1\n",
        "output:\n",
        "array([[ 0.,   1.,   2.,   3.],\n",
        "       [ 4.,   5.,   6.,   7.],\n",
        "       [ 8.,   9.,  10.,  11.],\n",
        "       [12.,  13.,  14.,  15.]])\n",
        "np.vsplit(arr_1, 2)\n",
        "output:\n",
        "[array([[0., 1., 2., 3.],\n",
        "       [4., 5., 6., 7.]]), array([[ 8.,  9., 10., 11.],\n",
        "       [12., 13., 14., 15.]])]\n",
        "np.vsplit(arr_1, np.array([3, 6]))\n",
        "output:\n",
        "[array([[ 0.,  1.,  2.,  3.],\n",
        "       [ 4.,  5.,  6.,  7.],\n",
        "       [ 8.,  9., 10., 11.]]), array([[12., 13., 14., 15.]]), array([], shape=(0, 4), dtype=float64)]"
      ],
      "metadata": {
        "colab": {
          "base_uri": "https://localhost:8080/",
          "height": 130
        },
        "id": "Xz_pgLF5uH7o",
        "outputId": "a4ff2aba-b2a5-404a-a02d-6f28ac072aa5"
      },
      "execution_count": null,
      "outputs": [
        {
          "output_type": "error",
          "ename": "SyntaxError",
          "evalue": "ignored",
          "traceback": [
            "\u001b[0;36m  File \u001b[0;32m\"<ipython-input-22-977de574e3c4>\"\u001b[0;36m, line \u001b[0;32m7\u001b[0m\n\u001b[0;31m    output:\u001b[0m\n\u001b[0m           ^\u001b[0m\n\u001b[0;31mSyntaxError\u001b[0m\u001b[0;31m:\u001b[0m invalid syntax\n"
          ]
        }
      ]
    },
    {
      "cell_type": "code",
      "source": [
        "import numpy as np\n",
        "arr_3 = np.array([1, 2, 3, 4])\n",
        "arr_4 = np.array([2, 4, 6, 8])\n",
        "# Add values\n",
        "print(arr_3 + arr_4)\n",
        "or\n",
        "np.add(arr_3 ,arr_4)\n",
        "output:\n",
        "[ 3,  6,  9, 12]\n",
        "# Subtract\n",
        "print(arr_3 - arr_4)\n",
        "or\n",
        "np.subtract(arr_3 ,arr_4)\n",
        "output:\n",
        "[-1, -2, -3, -4]\n",
        "# Multiply\n",
        "print(arr_3 * arr_4)\n",
        "or\n",
        "np.multiply(arr_3 ,arr_4)\n",
        "output:\n",
        "[ 2,  8, 18, 32]\n",
        "# Divide\n",
        "print(arr_3 / arr_4)\n",
        "or\n",
        "np.divide(arr_3,arr_4)\n",
        "output:\n",
        "[0.5, 0.5, 0.5, 0.5]\n",
        "#Random 2 by 3 digit 2D array between 0 to 100\n",
        "arr_6 =np.random.randint(100, size=(2, 3))\n",
        "print(arr_6)\n",
        "output:\n",
        "[[62, 96, 50],\n",
        " [87, 26, 42]]\n",
        "# Sum of values in array\n",
        "a=arr_3.sum()\n",
        "print(a)\n",
        "output:\n",
        "10\n",
        "# Sum columns\n",
        "c=arr_6.sum(axis=0)\n",
        "print(c)\n",
        "output:\n",
        "[149 122  92]\n",
        "# Cumulative sum of rows\n",
        "b=arr_6.cumsum(axis=1)\n",
        "print(b)\n",
        "output:\n",
        "[[ 62 158 208]\n",
        " [ 87 113 155]]\n",
        " arr=np.array([[62, 96, 50],\n",
        "       [87, 26, 42]])\n",
        "# Min of each row\n",
        "print(arr.min(axis=1))\n",
        "output:\n",
        "[52  1]\n",
        "# Max of each column\n",
        "print(arr.max(axis=0))\n",
        "output:\n",
        "[87 96 50]\n",
        "print(np.absolute([-1, -2]))\n",
        "output:\n",
        "[1, 2]\n",
        "arr_5 = np.array([[1, 2], [3, 4]])\n",
        "arr_6 = np.array([[2, 4], [6, 9]])\n",
        "# Return values in 1st array to powers defined in 2nd array\n",
        "print(np.power(arr_5, arr_6))\n",
        "output:\n",
        "[[     1,     16],\n",
        "      [   729, 262144]]\n",
        "arr_3 = np.array([1, 2, 3, 4])\n",
        "#Square Root\n",
        "print(np.sqrt(arr_3))\n",
        "output:\n",
        "[1.         1.41421356 1.73205081 2.        ]\n",
        "#Cube Root\n",
        "print(np.cbrt(arr_3))\n",
        "output:\n",
        "[1.         1.25992105 1.44224957 1.58740105]\n",
        "arr_3 = np.array([1, 2, 3, 4])\n",
        "#Exponential of all elements in array\n",
        "print(np.exp(arr_3))\n",
        "output:\n",
        "[ 2.71828183  7.3890561  20.08553692 54.59815003]\n",
        "print(np.log(arr_3))\n",
        "output:\n",
        "[0.         0.69314718 1.09861229 1.38629436]\n",
        "print(np.log2(arr_3))\n",
        "output:\n",
        "[0.        1.        1.5849625 2.       ]\n",
        "print(np.log10(arr_3))\n",
        "output:\n",
        "[0.         0.30103    0.47712125 0.60205999]\n",
        "print(np.gcd.reduce([9, 12, 15]))\n",
        "output:\n",
        "3\n",
        "print(np.lcm.reduce([9, 12, 15]))\n",
        "output:\n",
        "180\n",
        "# Round down\n",
        "print(np.floor([1.2, 2.5]))\n",
        "output:\n",
        "[1. 2.]\n",
        "# Round up\n",
        "print(np.ceil([1.2, 2.5]))\n",
        "output:\n",
        "[2. 3.]"
      ],
      "metadata": {
        "colab": {
          "base_uri": "https://localhost:8080/",
          "height": 130
        },
        "id": "NCGlNNiVuneP",
        "outputId": "8788e45d-25f7-4c7c-dc69-9c8d9fce5248"
      },
      "execution_count": null,
      "outputs": [
        {
          "output_type": "error",
          "ename": "SyntaxError",
          "evalue": "ignored",
          "traceback": [
            "\u001b[0;36m  File \u001b[0;32m\"<ipython-input-23-b4144238bbe8>\"\u001b[0;36m, line \u001b[0;32m6\u001b[0m\n\u001b[0;31m    or\u001b[0m\n\u001b[0m    ^\u001b[0m\n\u001b[0;31mSyntaxError\u001b[0m\u001b[0;31m:\u001b[0m invalid syntax\n"
          ]
        }
      ]
    },
    {
      "cell_type": "code",
      "source": [
        "import numpy as np\n",
        "import matplotlib.pyplot as plt\n",
        "# Generate array of 200 values between -pi & pi\n",
        "t_arr = np.linspace(-2*np.pi, 2*np.pi, 200)\n",
        "fig = plt.figure()\n",
        "ax = plt.axes()\n",
        "ax.grid(color='black', linestyle='-', linewidth=2,alpha=0.1)\n",
        "# Plotting Sin(X)\n",
        "plt.plot(t_arr, np.sin(t_arr),color='black') # SIN\n",
        "plt.title(\"sin(x)\")\n",
        "# Display plot\n",
        "plt.show()\n",
        "#plotting cos(x)\n",
        "plt.plot(t_arr, np.cos(t_arr),color='darkorange') # COS\n",
        "plt.title(\"cos(x)\")\n",
        "#plotting tan(x)\n",
        "plt.plot(t_arr, np.tan(t_arr),color='skyblue') # TAN\n",
        "plt.title(\"tan(x)\")\n",
        "plt.plot(t_arr, np.sin(t_arr),color='black',label='sin(x)') # SIN\n",
        "plt.plot(t_arr, np.cos(t_arr),color='darkorange',label='cos(x)') # COS\n",
        "plt.plot(t_arr, np.tan(t_arr),color='skyblue',label='tan(x)') # TAN\n",
        "plt.legend(loc='best')\n",
        "plt.show()\n",
        "# Provides inverse \n",
        "print(np.arcsin(1))\n",
        "print(np.arccos(1))\n",
        "print(np.arctan(0))\n",
        "output:\n",
        "1.5707963267948966\n",
        "0.0\n",
        "0.0\n",
        "# Provides inverse \n",
        "print(np.arcsin(1))\n",
        "print(np.arccos(1))\n",
        "print(np.arctan(0))\n",
        "output:\n",
        "1.5707963267948966\n",
        "0.0\n",
        "0.0\n",
        "arr_1 = np.arange(1, 6)\n",
        "print(arr_1)\n",
        "output:\n",
        "[1 2 3 4 5]\n",
        "#mean\n",
        "print(np.mean(arr_1))\n",
        "output:\n",
        "3.0\n",
        "#median\n",
        "print(np.median(arr_1))\n",
        "output:\n",
        "3.0\n",
        "#average\n",
        "print(np.average(arr_1))\n",
        "output:\n",
        "3.0\n",
        "# Standard Deviation\n",
        "print(np.std([4, 6, 3, 5, 2])) \n",
        "output:\n",
        "1.4142135623730951\n",
        "#variance\n",
        "print(np.var([4, 6, 3, 5, 2]))\n",
        "output:\n",
        "2.0"
      ],
      "metadata": {
        "colab": {
          "base_uri": "https://localhost:8080/",
          "height": 130
        },
        "id": "m9Nc2NBtvMq1",
        "outputId": "68157014-cd9d-45cd-b459-74bbedcfd894"
      },
      "execution_count": null,
      "outputs": [
        {
          "output_type": "error",
          "ename": "SyntaxError",
          "evalue": "ignored",
          "traceback": [
            "\u001b[0;36m  File \u001b[0;32m\"<ipython-input-28-be177ddc810d>\"\u001b[0;36m, line \u001b[0;32m28\u001b[0m\n\u001b[0;31m    output:\u001b[0m\n\u001b[0m           ^\u001b[0m\n\u001b[0;31mSyntaxError\u001b[0m\u001b[0;31m:\u001b[0m invalid syntax\n"
          ]
        }
      ]
    },
    {
      "cell_type": "code",
      "source": [
        "import numpy as np\n",
        "import matplotlib.pyplot as plt\n",
        "from mpl_toolkits.mplot3d import Axes3D\n",
        "v3=[ 4, 6 , 7 ]\n",
        "v2= [ 4 ,7 ,9 ]\n",
        "v3t = np.transpose(v3)\n",
        "print(v3t)\n",
        "output:\n",
        "[ 4, 6 , 7 ]\n",
        "#taking 2 vectors of same dimention\n",
        "v1 = np.array([ 2 ,6 ])\n",
        "v2 = np.array([ 5 ,7 ])\n",
        "v3 = v1+v2 #Addition\n",
        "print(v3)\n",
        "output:\n",
        "[ 7, 13]\n",
        "v4 = v2-v1 #Subtraction\n",
        "print(v4)\n",
        "output:\n",
        "[3, 1]\n",
        "# VECTOR SCALAR PRODUCT\n",
        "v1 = np.array([ 9 ,2 ]) \n",
        "c= 0.7\n",
        "v2= c*v1\n",
        "print(v2)\n",
        "output:\n",
        "[6.3, 1.4]\n",
        "# dot product \n",
        "v1 = np.array([ 4 ,3 ,9 ])\n",
        "v2 = np.array([ 1 ,2 ,3 ])\n",
        "#method 1\n",
        "D_P1 = sum( np.multiply(v1,v2)  )\n",
        "print(D_P1)\n",
        "output:\n",
        "37\n",
        "#method 2\n",
        "D_P2 = np.dot( v1,v2 )\n",
        "print(D_P2)\n",
        "output:\n",
        "37\n",
        "#method 3\n",
        "D_P3= np.matmul( v1,v2 )\n",
        "print(D_P3)\n",
        "output:\n",
        "37\n",
        "# create vectors\n",
        "w1 = [ 1, 3, 5 ]\n",
        "w2 = [ 3, 4, 2 ]\n",
        "w3 = np.multiply(w1,w2)\n",
        "print(w3)\n",
        "output:\n",
        "[ 3 12 10]\n",
        "v1 = np.array([3,9,9])\n",
        "v2 = np.array([2,3,4])\n",
        "v3 = np.cross (v1,v2)\n",
        "print (v3)\n",
        "output:\n",
        "[ 9  6 -9]\n",
        "#  vector \n",
        "v1 = np.array([ 3,4,6 ])\n",
        "# example method 1\n",
        "vl = np.sqrt( sum( np.multiply(v1,v1)) )\n",
        "or\n",
        "# method 2: take the norm\n",
        "vl = np.linalg.norm(v1)\n",
        "print(vl)\n",
        "output:\n",
        "7.810249675906654"
      ],
      "metadata": {
        "colab": {
          "base_uri": "https://localhost:8080/",
          "height": 130
        },
        "id": "ofO49LX0v0Um",
        "outputId": "2b1ccded-e19a-4571-a4e6-c1ac9a2a1570"
      },
      "execution_count": null,
      "outputs": [
        {
          "output_type": "error",
          "ename": "SyntaxError",
          "evalue": "ignored",
          "traceback": [
            "\u001b[0;36m  File \u001b[0;32m\"<ipython-input-30-1159d9859081>\"\u001b[0;36m, line \u001b[0;32m8\u001b[0m\n\u001b[0;31m    output:\u001b[0m\n\u001b[0m           ^\u001b[0m\n\u001b[0;31mSyntaxError\u001b[0m\u001b[0;31m:\u001b[0m invalid syntax\n"
          ]
        }
      ]
    }
  ]
}