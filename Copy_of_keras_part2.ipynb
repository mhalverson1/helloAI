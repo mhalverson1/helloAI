{
  "cells": [
    {
      "cell_type": "markdown",
      "metadata": {
        "id": "view-in-github",
        "colab_type": "text"
      },
      "source": [
        "<a href=\"https://colab.research.google.com/github/mhalverson1/helloAI/blob/main/Copy_of_keras_part2.ipynb\" target=\"_parent\"><img src=\"https://colab.research.google.com/assets/colab-badge.svg\" alt=\"Open In Colab\"/></a>"
      ]
    },
    {
      "cell_type": "code",
      "execution_count": null,
      "metadata": {
        "colab": {
          "base_uri": "https://localhost:8080/"
        },
        "id": "5qfZQ0fhPt-1",
        "outputId": "9a4c9463-a12c-46b1-d8e4-7095d7f7f9d0"
      },
      "outputs": [
        {
          "output_type": "stream",
          "name": "stdout",
          "text": [
            "before converting... 5\n",
            "7\n",
            "after converting y... [0. 0. 0. 0. 0. 0. 0. 1. 0. 0.]\n",
            "6000/6000 [==============================] - 23s 4ms/step - loss: 0.3237 - accuracy: 0.9122 - val_loss: 0.1741 - val_accuracy: 0.9503\n",
            "Test loss: 0.17408892512321472\n",
            "Test accuracy: 0.9502999782562256\n"
          ]
        }
      ],
      "source": [
        "# based on https://www.sitepoint.com/keras-digit-recognition-tutorial/\n",
        "\n",
        "import tensorflow as tf\n",
        "from tensorflow import keras\n",
        "from tensorflow.keras import layers\n",
        "import keras.datasets.mnist as kdm\n",
        "from keras.utils import to_categorical\n",
        "\n",
        "# tf.config.set_visible_devices([], 'GPU') # if you have an m1/m2 mac, uncomment this line to run wayyyy faster if you have local install of jupyter. leave commented if you are running on google colab \n",
        "\n",
        "(x_train, y_train), (x_test, y_test) = kdm.load_data()\n",
        "assert x_train.shape == (60000, 28, 28)\n",
        "assert x_test.shape == (10000, 28, 28)\n",
        "assert y_train.shape == (60000,)\n",
        "assert y_test.shape == (10000,)\n",
        "\n",
        "print(\"before converting...\", y_train[0])\n",
        "\n",
        "# reshape\n",
        "img_rows, img_cols = 28, 28\n",
        "# normalize inputs to between 0 and 1\n",
        "import numpy as np\n",
        "x_train = np.true_divide(x_train, 255)\n",
        "x_test = np.true_divide(x_test, 255)\n",
        "x_train = x_train.reshape(x_train.shape[0], img_rows, img_cols, 1)\n",
        "x_test = x_test.reshape(x_test.shape[0], img_rows, img_cols, 1)\n",
        "print(y_test[0])\n",
        "\n",
        "# convert to vector outputs \n",
        "num_classes = 10\n",
        "y_train = to_categorical(y_train, num_classes)\n",
        "y_test = to_categorical(y_test, num_classes)\n",
        "print(\"after converting y...\", y_test[0])\n",
        "\n",
        "model = keras.models.Sequential([\n",
        "  layers.Flatten(input_shape=(28,28)),\n",
        "  layers.Dense(100, activation='sigmoid'),\n",
        "  layers.Dense(10, activation='softmax')\n",
        "])\n",
        "\n",
        "model.compile(loss='categorical_crossentropy',\n",
        "      optimizer='adam',\n",
        "      metrics=['accuracy'])\n",
        "\n",
        "model.fit(x_train, y_train,\n",
        "          batch_size=10,\n",
        "          epochs=1,\n",
        "          verbose=1,\n",
        "          validation_data=(x_test, y_test))\n",
        "score = model.evaluate(x_test, y_test, verbose=0)\n",
        "\n",
        "print('Test loss:', score[0])\n",
        "print('Test accuracy:', score[1])\n",
        "model.save(\"test_model.h5\")"
      ]
    },
    {
      "cell_type": "code",
      "execution_count": null,
      "metadata": {
        "id": "xcK4luC5Zzmi"
      },
      "outputs": [],
      "source": [
        "def findTroublesomeImageKERAS(model, x_test):\n",
        "  worsta = 1\n",
        "  worsti = 0\n",
        "  for i in range(len(x_test)):\n",
        "    prediction = model.predict(x_test[i:i+1], verbose=False)\n",
        "    max_a = np.max(prediction)\n",
        "    if max_a < worsta:\n",
        "      worsta = max_a\n",
        "      worsti = i\n",
        "  return (worsta, worsti)"
      ]
    },
    {
      "cell_type": "code",
      "execution_count": null,
      "metadata": {
        "colab": {
          "base_uri": "https://localhost:8080/"
        },
        "id": "pvmAOO5OWTrG",
        "outputId": "4c3ace8c-edae-40ce-9804-14c11fdb2b33"
      },
      "outputs": [
        {
          "output_type": "stream",
          "name": "stdout",
          "text": [
            "[0.17408892512321472, 0.9502999782562256]\n",
            "1/1 [==============================] - 0s 22ms/step\n",
            "[[1.1398006e-07 9.9734986e-01 7.8069206e-05 5.5244227e-04 4.5210982e-06\n",
            "  3.0365004e-04 1.4920422e-04 1.9058287e-04 1.3383825e-03 3.3049677e-05]]\n",
            "[0. 1. 0. 0. 0. 0. 0. 0. 0. 0.]\n",
            "(0.23046535, 6091)\n"
          ]
        }
      ],
      "source": [
        "print(score)\n",
        "#print(x_test[768])\n",
        "a = model.predict(x_test[768:769])\n",
        "print(a)\n",
        "print(y_test[768])\n",
        "troublesome = findTroublesomeImageKERAS(model, x_test)\n",
        "print(troublesome)\n",
        "\n"
      ]
    },
    {
      "cell_type": "code",
      "execution_count": null,
      "metadata": {
        "colab": {
          "base_uri": "https://localhost:8080/",
          "height": 498
        },
        "id": "f6qi6EKSfEN5",
        "outputId": "7db489f9-f3c8-4761-cafd-f45992a2a452"
      },
      "outputs": [
        {
          "output_type": "stream",
          "name": "stdout",
          "text": [
            "1/1 [==============================] - 0s 25ms/step\n",
            "[[2.1015607e-01 9.4465999e-05 9.2279553e-02 2.3046535e-01 2.0453187e-03\n",
            "  2.2661711e-01 5.3094904e-04 6.8759797e-03 1.8348348e-01 4.7451742e-02]]\n"
          ]
        },
        {
          "output_type": "execute_result",
          "data": {
            "text/plain": [
              "<matplotlib.image.AxesImage at 0x7f450936ce80>"
            ]
          },
          "metadata": {},
          "execution_count": 35
        },
        {
          "output_type": "display_data",
          "data": {
            "text/plain": [
              "<Figure size 640x480 with 1 Axes>"
            ],
            "image/png": "[encoded data removed]"
          },
          "metadata": {}
        }
      ],
      "source": [
        "worsti = troublesome[1]\n",
        "a = model.predict(x_test[worsti:worsti+1])\n",
        "print(a)\n",
        "import matplotlib.pyplot as plt\n",
        "plt.figure()\n",
        "plt.imshow(np.reshape(x_test[worsti], (28,28)),cmap=\"gray_r\")"
      ]
    },
    {
      "cell_type": "code",
      "execution_count": null,
      "metadata": {
        "colab": {
          "base_uri": "https://localhost:8080/"
        },
        "id": "iuVsMZaqdqKK",
        "outputId": "7b922345-7675-4460-a5ae-381fcb18544a"
      },
      "outputs": [
        {
          "output_type": "stream",
          "name": "stdout",
          "text": [
            "[0, 1, 1, 1]\n"
          ]
        }
      ],
      "source": [
        "def dec_to_binvector4(dec):\n",
        "  binstr = \"{0:04b}\".format(int(dec))\n",
        "  binvect = []\n",
        "  for b in binstr:\n",
        "    binvect.append(int(b))\n",
        "  return binvect\n",
        "\n",
        "# expects y_data to be a list of nonnegative integer numbers (e.g., 0, 1, 2, 3)\n",
        "# returns the binary representation of each y using the specified number of bits\n",
        "def to_binary(y_data):\n",
        "  return [np.array(dec_to_binvector4(y)).reshape(4, 1) for y in y_data]\n",
        "\n",
        "print(dec_to_binvector4(7))"
      ]
    },
    {
      "cell_type": "code",
      "execution_count": null,
      "metadata": {
        "colab": {
          "base_uri": "https://localhost:8080/"
        },
        "id": "Hi76OiM6hyY2",
        "outputId": "ad4eaecd-e9f7-4e5d-d4ab-1c54fdca57fa"
      },
      "outputs": [
        {
          "output_type": "stream",
          "name": "stdout",
          "text": [
            "Epoch 1/30\n",
            "6000/6000 [==============================] - 21s 3ms/step - loss: 0.0664 - accuracy: 0.5690 - val_loss: 0.0286 - val_accuracy: 0.5810\n",
            "Epoch 2/30\n",
            "6000/6000 [==============================] - 20s 3ms/step - loss: 0.0227 - accuracy: 0.6141 - val_loss: 0.0203 - val_accuracy: 0.6719\n",
            "Epoch 3/30\n",
            "6000/6000 [==============================] - 21s 3ms/step - loss: 0.0159 - accuracy: 0.6436 - val_loss: 0.0166 - val_accuracy: 0.6429\n",
            "Epoch 4/30\n",
            "6000/6000 [==============================] - 20s 3ms/step - loss: 0.0126 - accuracy: 0.6587 - val_loss: 0.0150 - val_accuracy: 0.6584\n",
            "Epoch 5/30\n",
            "6000/6000 [==============================] - 23s 4ms/step - loss: 0.0104 - accuracy: 0.6769 - val_loss: 0.0141 - val_accuracy: 0.6984\n",
            "Epoch 6/30\n",
            "6000/6000 [==============================] - 20s 3ms/step - loss: 0.0089 - accuracy: 0.6885 - val_loss: 0.0138 - val_accuracy: 0.6932\n",
            "Epoch 7/30\n",
            "6000/6000 [==============================] - 21s 4ms/step - loss: 0.0077 - accuracy: 0.6983 - val_loss: 0.0127 - val_accuracy: 0.6759\n",
            "Epoch 8/30\n",
            "6000/6000 [==============================] - 21s 3ms/step - loss: 0.0067 - accuracy: 0.7044 - val_loss: 0.0123 - val_accuracy: 0.7346\n",
            "Epoch 9/30\n",
            "6000/6000 [==============================] - 19s 3ms/step - loss: 0.0060 - accuracy: 0.7121 - val_loss: 0.0131 - val_accuracy: 0.6552\n",
            "Epoch 10/30\n",
            "6000/6000 [==============================] - 20s 3ms/step - loss: 0.0052 - accuracy: 0.7078 - val_loss: 0.0127 - val_accuracy: 0.7024\n",
            "Epoch 11/30\n",
            "6000/6000 [==============================] - 18s 3ms/step - loss: 0.0047 - accuracy: 0.7140 - val_loss: 0.0124 - val_accuracy: 0.6929\n",
            "Epoch 12/30\n",
            "6000/6000 [==============================] - 19s 3ms/step - loss: 0.0043 - accuracy: 0.7091 - val_loss: 0.0130 - val_accuracy: 0.7420\n",
            "Epoch 13/30\n",
            "6000/6000 [==============================] - 21s 3ms/step - loss: 0.0038 - accuracy: 0.7000 - val_loss: 0.0123 - val_accuracy: 0.6969\n",
            "Epoch 14/30\n",
            "6000/6000 [==============================] - 20s 3ms/step - loss: 0.0035 - accuracy: 0.7015 - val_loss: 0.0129 - val_accuracy: 0.6980\n",
            "Epoch 15/30\n",
            "6000/6000 [==============================] - 19s 3ms/step - loss: 0.0033 - accuracy: 0.7005 - val_loss: 0.0127 - val_accuracy: 0.6718\n",
            "Epoch 16/30\n",
            "6000/6000 [==============================] - 20s 3ms/step - loss: 0.0030 - accuracy: 0.7018 - val_loss: 0.0123 - val_accuracy: 0.6815\n",
            "Epoch 17/30\n",
            "6000/6000 [==============================] - 19s 3ms/step - loss: 0.0028 - accuracy: 0.6957 - val_loss: 0.0123 - val_accuracy: 0.7011\n",
            "Epoch 18/30\n",
            "6000/6000 [==============================] - 20s 3ms/step - loss: 0.0026 - accuracy: 0.6883 - val_loss: 0.0119 - val_accuracy: 0.6430\n",
            "Epoch 19/30\n",
            "6000/6000 [==============================] - 19s 3ms/step - loss: 0.0025 - accuracy: 0.6840 - val_loss: 0.0136 - val_accuracy: 0.6433\n",
            "Epoch 20/30\n",
            "6000/6000 [==============================] - 21s 3ms/step - loss: 0.0023 - accuracy: 0.6722 - val_loss: 0.0136 - val_accuracy: 0.6424\n",
            "Epoch 21/30\n",
            "6000/6000 [==============================] - 19s 3ms/step - loss: 0.0022 - accuracy: 0.6762 - val_loss: 0.0123 - val_accuracy: 0.6595\n",
            "Epoch 22/30\n",
            "6000/6000 [==============================] - 20s 3ms/step - loss: 0.0022 - accuracy: 0.6841 - val_loss: 0.0125 - val_accuracy: 0.6795\n",
            "Epoch 23/30\n",
            "6000/6000 [==============================] - 18s 3ms/step - loss: 0.0020 - accuracy: 0.6802 - val_loss: 0.0128 - val_accuracy: 0.6604\n",
            "Epoch 24/30\n",
            "6000/6000 [==============================] - 20s 3ms/step - loss: 0.0020 - accuracy: 0.6787 - val_loss: 0.0128 - val_accuracy: 0.6595\n",
            "Epoch 25/30\n",
            "6000/6000 [==============================] - 19s 3ms/step - loss: 0.0018 - accuracy: 0.6826 - val_loss: 0.0126 - val_accuracy: 0.6716\n",
            "Epoch 26/30\n",
            "6000/6000 [==============================] - 21s 3ms/step - loss: 0.0017 - accuracy: 0.6749 - val_loss: 0.0131 - val_accuracy: 0.6509\n",
            "Epoch 27/30\n",
            "6000/6000 [==============================] - 20s 3ms/step - loss: 0.0017 - accuracy: 0.6701 - val_loss: 0.0131 - val_accuracy: 0.6558\n",
            "Epoch 28/30\n",
            "6000/6000 [==============================] - 21s 4ms/step - loss: 0.0017 - accuracy: 0.6643 - val_loss: 0.0127 - val_accuracy: 0.6555\n",
            "Epoch 29/30\n",
            "6000/6000 [==============================] - 22s 4ms/step - loss: 0.0016 - accuracy: 0.6632 - val_loss: 0.0129 - val_accuracy: 0.6462\n",
            "Epoch 30/30\n",
            "6000/6000 [==============================] - 22s 4ms/step - loss: 0.0016 - accuracy: 0.6627 - val_loss: 0.0135 - val_accuracy: 0.6729\n",
            "Test loss: 0.01350953709334135\n",
            "Test accuracy: 0.6729000210762024\n"
          ]
        }
      ],
      "source": [
        "# based on https://www.sitepoint.com/keras-digit-recognition-tutorial/\n",
        "\n",
        "import tensorflow as tf\n",
        "from tensorflow import keras\n",
        "from tensorflow.keras import layers\n",
        "import keras.datasets.mnist as kdm\n",
        "from keras.utils import to_categorical\n",
        "\n",
        "\n",
        "(x_train, y_train), (x_test, y_test) = kdm.load_data()\n",
        "\n",
        "\n",
        "# reshape\n",
        "img_rows, img_cols = 28, 28\n",
        "# normalize inputs to between 0 and 1\n",
        "import numpy as np\n",
        "x_train = np.true_divide(x_train, 255)\n",
        "x_test = np.true_divide(x_test, 255)\n",
        "x_train = x_train.reshape(x_train.shape[0], img_rows, img_cols, 1)\n",
        "x_test = x_test.reshape(x_test.shape[0], img_rows, img_cols, 1)\n",
        "\n",
        "# convert to vector outputs \n",
        "num_classes = 10\n",
        "y_train = to_binary(y_train)\n",
        "y_test = to_binary(y_test)\n",
        "\n",
        "y_train = np.array(y_train).reshape(60000, 4)\n",
        "y_test = np.array(y_test).reshape(10000, 4)\n",
        "\n",
        "model = keras.models.Sequential([\n",
        "  layers.Flatten(input_shape=(28,28)),\n",
        "  layers.Dense(100, activation='sigmoid'),\n",
        "  layers.Dense(10, activation='sigmoid'),\n",
        "  layers.Dense(4, activation='sigmoid'),\n",
        "])\n",
        "\n",
        "model.compile(loss='mean_squared_error',\n",
        "      optimizer='adam',\n",
        "      metrics=['accuracy'])\n",
        "\n",
        "model.fit(x_train, y_train,\n",
        "          batch_size=10,\n",
        "          epochs=30,\n",
        "          verbose=1,\n",
        "          validation_data=(x_test, y_test))\n",
        "score = model.evaluate(x_test, y_test, verbose=0)\n",
        "\n",
        "print('Test loss:', score[0])\n",
        "print('Test accuracy:', score[1])\n",
        "model.save(\"test_model.h5\")"
      ]
    }
  ],
  "metadata": {
    "colab": {
      "provenance": [],
      "include_colab_link": true
    },
    "kernelspec": {
      "display_name": "Python 3 (ipykernel)",
      "language": "python",
      "name": "python3"
    },
    "language_info": {
      "codemirror_mode": {
        "name": "ipython",
        "version": 3
      },
      "file_extension": ".py",
      "mimetype": "text/x-python",
      "name": "python",
      "nbconvert_exporter": "python",
      "pygments_lexer": "ipython3",
      "version": "3.10.9"
    }
  },
  "nbformat": 4,
  "nbformat_minor": 0
}