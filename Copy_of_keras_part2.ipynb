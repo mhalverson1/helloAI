{
  "cells": [
    {
      "cell_type": "markdown",
      "metadata": {
        "id": "view-in-github",
        "colab_type": "text"
      },
      "source": [
        "<a href=\"https://colab.research.google.com/github/mhalverson1/helloAI/blob/main/Copy_of_keras_part2.ipynb\" target=\"_parent\"><img src=\"https://colab.research.google.com/assets/colab-badge.svg\" alt=\"Open In Colab\"/></a>"
      ]
    },
    {
      "cell_type": "code",
      "execution_count": 1,
      "metadata": {
        "colab": {
          "base_uri": "https://localhost:8080/"
        },
        "id": "5qfZQ0fhPt-1",
        "outputId": "22e3236e-22fa-4da5-e4d7-aae6eab54ba6"
      },
      "outputs": [
        {
          "output_type": "stream",
          "name": "stdout",
          "text": [
            "Downloading data from https://storage.googleapis.com/tensorflow/tf-keras-datasets/mnist.npz\n",
            "11490434/11490434 [==============================] - 0s 0us/step\n",
            "before converting... 5\n",
            "7\n",
            "after converting y... [0. 0. 0. 0. 0. 0. 0. 1. 0. 0.]\n",
            "6000/6000 [==============================] - 30s 5ms/step - loss: 0.3236 - accuracy: 0.9127 - val_loss: 0.1821 - val_accuracy: 0.9465\n",
            "Test loss: 0.18214891850948334\n",
            "Test accuracy: 0.9465000033378601\n"
          ]
        }
      ],
      "source": [
        "# based on https://www.sitepoint.com/keras-digit-recognition-tutorial/\n",
        "\n",
        "import tensorflow as tf\n",
        "from tensorflow import keras\n",
        "from tensorflow.keras import layers\n",
        "import keras.datasets.mnist as kdm\n",
        "from keras.utils import to_categorical\n",
        "\n",
        "# tf.config.set_visible_devices([], 'GPU') # if you have an m1/m2 mac, uncomment this line to run wayyyy faster if you have local install of jupyter. leave commented if you are running on google colab \n",
        "\n",
        "(x_train, y_train), (x_test, y_test) = kdm.load_data()\n",
        "assert x_train.shape == (60000, 28, 28)\n",
        "assert x_test.shape == (10000, 28, 28)\n",
        "assert y_train.shape == (60000,)\n",
        "assert y_test.shape == (10000,)\n",
        "\n",
        "print(\"before converting...\", y_train[0])\n",
        "\n",
        "# reshape\n",
        "img_rows, img_cols = 28, 28\n",
        "# normalize inputs to between 0 and 1\n",
        "import numpy as np\n",
        "x_train = np.true_divide(x_train, 255)\n",
        "x_test = np.true_divide(x_test, 255)\n",
        "x_train = x_train.reshape(x_train.shape[0], img_rows, img_cols, 1)\n",
        "x_test = x_test.reshape(x_test.shape[0], img_rows, img_cols, 1)\n",
        "print(y_test[0])\n",
        "\n",
        "# convert to vector outputs \n",
        "num_classes = 10\n",
        "y_train = to_categorical(y_train, num_classes)\n",
        "y_test = to_categorical(y_test, num_classes)\n",
        "print(\"after converting y...\", y_test[0])\n",
        "\n",
        "model = keras.models.Sequential([\n",
        "  layers.Flatten(input_shape=(28,28)),\n",
        "  layers.Dense(100, activation='sigmoid'),\n",
        "  layers.Dense(10, activation='softmax')\n",
        "])\n",
        "\n",
        "model.compile(loss='categorical_crossentropy',\n",
        "      optimizer='adam',\n",
        "      metrics=['accuracy'])\n",
        "\n",
        "model.fit(x_train, y_train,\n",
        "          batch_size=10,\n",
        "          epochs=1,\n",
        "          verbose=1,\n",
        "          validation_data=(x_test, y_test))\n",
        "score = model.evaluate(x_test, y_test, verbose=0)\n",
        "\n",
        "print('Test loss:', score[0])\n",
        "print('Test accuracy:', score[1])\n",
        "model.save(\"test_model.h5\")"
      ]
    },
    {
      "cell_type": "code",
      "execution_count": 2,
      "metadata": {
        "id": "xcK4luC5Zzmi"
      },
      "outputs": [],
      "source": [
        "def findTroublesomeImageKERAS(model, x_test):\n",
        "  worsta = 1\n",
        "  worsti = 0\n",
        "  for i in range(len(x_test)):\n",
        "    prediction = model.predict(x_test[i:i+1], verbose=False)\n",
        "    max_a = np.max(prediction)\n",
        "    if max_a < worsta:\n",
        "      worsta = max_a\n",
        "      worsti = i\n",
        "  return (worsta, worsti)"
      ]
    },
    {
      "cell_type": "code",
      "execution_count": 3,
      "metadata": {
        "colab": {
          "base_uri": "https://localhost:8080/"
        },
        "id": "pvmAOO5OWTrG",
        "outputId": "ede3e939-035f-4c20-8de0-95216efaaab8"
      },
      "outputs": [
        {
          "output_type": "stream",
          "name": "stdout",
          "text": [
            "[0.18214891850948334, 0.9465000033378601]\n",
            "1/1 [==============================] - 0s 127ms/step\n",
            "[[1.1298975e-07 9.9553263e-01 5.0704507e-04 6.6811725e-04 7.9759002e-06\n",
            "  3.4866220e-04 2.3282605e-04 1.1812335e-04 2.5227540e-03 6.1822509e-05]]\n",
            "[0. 1. 0. 0. 0. 0. 0. 0. 0. 0.]\n",
            "(0.26479793, 4761)\n"
          ]
        }
      ],
      "source": [
        "print(score)\n",
        "#print(x_test[768])\n",
        "a = model.predict(x_test[768:769])\n",
        "print(a)\n",
        "print(y_test[768])\n",
        "troublesome = findTroublesomeImageKERAS(model, x_test)\n",
        "print(troublesome)\n",
        "\n"
      ]
    },
    {
      "cell_type": "code",
      "execution_count": 4,
      "metadata": {
        "colab": {
          "base_uri": "https://localhost:8080/",
          "height": 498
        },
        "id": "f6qi6EKSfEN5",
        "outputId": "f2b4c93d-6d5a-4c77-8cbe-aee91be5ee89"
      },
      "outputs": [
        {
          "output_type": "stream",
          "name": "stdout",
          "text": [
            "1/1 [==============================] - 0s 21ms/step\n",
            "[[6.3076332e-05 2.1371821e-01 1.9672387e-03 4.7362123e-02 4.4317998e-02\n",
            "  1.6304728e-01 1.6867911e-05 1.8375945e-01 2.6479793e-01 8.0949761e-02]]\n"
          ]
        },
        {
          "output_type": "execute_result",
          "data": {
            "text/plain": [
              "<matplotlib.image.AxesImage at 0x7fce5cef54f0>"
            ]
          },
          "metadata": {},
          "execution_count": 4
        },
        {
          "output_type": "display_data",
          "data": {
            "text/plain": [
              "<Figure size 640x480 with 1 Axes>"
            ],
            "image/png": "[encoded data removed]"
          },
          "metadata": {}
        }
      ],
      "source": [
        "worsti = troublesome[1]\n",
        "a = model.predict(x_test[worsti:worsti+1])\n",
        "print(a)\n",
        "import matplotlib.pyplot as plt\n",
        "plt.figure()\n",
        "plt.imshow(np.reshape(x_test[worsti], (28,28)),cmap=\"gray_r\")"
      ]
    },
    {
      "cell_type": "code",
      "execution_count": 5,
      "metadata": {
        "colab": {
          "base_uri": "https://localhost:8080/"
        },
        "id": "iuVsMZaqdqKK",
        "outputId": "c6238693-239c-456d-b4d5-23dbc276ca03"
      },
      "outputs": [
        {
          "output_type": "stream",
          "name": "stdout",
          "text": [
            "[0, 1, 1, 1]\n"
          ]
        }
      ],
      "source": [
        "def dec_to_binvector4(dec):\n",
        "  binstr = \"{0:04b}\".format(int(dec))\n",
        "  binvect = []\n",
        "  for b in binstr:\n",
        "    binvect.append(int(b))\n",
        "  return binvect\n",
        "\n",
        "# expects y_data to be a list of nonnegative integer numbers (e.g., 0, 1, 2, 3)\n",
        "# returns the binary representation of each y using the specified number of bits\n",
        "def to_binary(y_data):\n",
        "  return [np.array(dec_to_binvector4(y)).reshape(4, 1) for y in y_data]\n",
        "\n",
        "print(dec_to_binvector4(7))"
      ]
    },
    {
      "cell_type": "code",
      "execution_count": 6,
      "metadata": {
        "colab": {
          "base_uri": "https://localhost:8080/"
        },
        "id": "Hi76OiM6hyY2",
        "outputId": "ba7cc8c8-b115-43c2-a20d-f126568d2241"
      },
      "outputs": [
        {
          "output_type": "stream",
          "name": "stdout",
          "text": [
            "Epoch 1/30\n",
            "6000/6000 [==============================] - 19s 3ms/step - loss: 0.0675 - accuracy: 0.5636 - val_loss: 0.0287 - val_accuracy: 0.6301\n",
            "Epoch 2/30\n",
            "6000/6000 [==============================] - 15s 3ms/step - loss: 0.0229 - accuracy: 0.6405 - val_loss: 0.0198 - val_accuracy: 0.6464\n",
            "Epoch 3/30\n",
            "6000/6000 [==============================] - 15s 3ms/step - loss: 0.0159 - accuracy: 0.6765 - val_loss: 0.0161 - val_accuracy: 0.7130\n",
            "Epoch 4/30\n",
            "6000/6000 [==============================] - 15s 3ms/step - loss: 0.0124 - accuracy: 0.6927 - val_loss: 0.0151 - val_accuracy: 0.7244\n",
            "Epoch 5/30\n",
            "6000/6000 [==============================] - 15s 3ms/step - loss: 0.0102 - accuracy: 0.6963 - val_loss: 0.0133 - val_accuracy: 0.7275\n",
            "Epoch 6/30\n",
            "6000/6000 [==============================] - 17s 3ms/step - loss: 0.0087 - accuracy: 0.7096 - val_loss: 0.0129 - val_accuracy: 0.7103\n",
            "Epoch 7/30\n",
            "6000/6000 [==============================] - 15s 3ms/step - loss: 0.0076 - accuracy: 0.7200 - val_loss: 0.0121 - val_accuracy: 0.7445\n",
            "Epoch 8/30\n",
            "6000/6000 [==============================] - 15s 3ms/step - loss: 0.0066 - accuracy: 0.7215 - val_loss: 0.0127 - val_accuracy: 0.7187\n",
            "Epoch 9/30\n",
            "6000/6000 [==============================] - 15s 3ms/step - loss: 0.0059 - accuracy: 0.7143 - val_loss: 0.0122 - val_accuracy: 0.6990\n",
            "Epoch 10/30\n",
            "6000/6000 [==============================] - 15s 3ms/step - loss: 0.0053 - accuracy: 0.7187 - val_loss: 0.0121 - val_accuracy: 0.7345\n",
            "Epoch 11/30\n",
            "6000/6000 [==============================] - 16s 3ms/step - loss: 0.0047 - accuracy: 0.7183 - val_loss: 0.0122 - val_accuracy: 0.6861\n",
            "Epoch 12/30\n",
            "6000/6000 [==============================] - 15s 3ms/step - loss: 0.0044 - accuracy: 0.7186 - val_loss: 0.0119 - val_accuracy: 0.7327\n",
            "Epoch 13/30\n",
            "6000/6000 [==============================] - 16s 3ms/step - loss: 0.0040 - accuracy: 0.7173 - val_loss: 0.0117 - val_accuracy: 0.7238\n",
            "Epoch 14/30\n",
            "6000/6000 [==============================] - 15s 3ms/step - loss: 0.0037 - accuracy: 0.7156 - val_loss: 0.0127 - val_accuracy: 0.7055\n",
            "Epoch 15/30\n",
            "6000/6000 [==============================] - 17s 3ms/step - loss: 0.0034 - accuracy: 0.7227 - val_loss: 0.0119 - val_accuracy: 0.7315\n",
            "Epoch 16/30\n",
            "6000/6000 [==============================] - 15s 3ms/step - loss: 0.0031 - accuracy: 0.7270 - val_loss: 0.0123 - val_accuracy: 0.6892\n",
            "Epoch 17/30\n",
            "6000/6000 [==============================] - 16s 3ms/step - loss: 0.0029 - accuracy: 0.7232 - val_loss: 0.0123 - val_accuracy: 0.7124\n",
            "Epoch 18/30\n",
            "6000/6000 [==============================] - 15s 3ms/step - loss: 0.0028 - accuracy: 0.7262 - val_loss: 0.0125 - val_accuracy: 0.7343\n",
            "Epoch 19/30\n",
            "6000/6000 [==============================] - 16s 3ms/step - loss: 0.0026 - accuracy: 0.7182 - val_loss: 0.0124 - val_accuracy: 0.7296\n",
            "Epoch 20/30\n",
            "6000/6000 [==============================] - 16s 3ms/step - loss: 0.0025 - accuracy: 0.7237 - val_loss: 0.0127 - val_accuracy: 0.7370\n",
            "Epoch 21/30\n",
            "6000/6000 [==============================] - 15s 3ms/step - loss: 0.0023 - accuracy: 0.7198 - val_loss: 0.0130 - val_accuracy: 0.6930\n",
            "Epoch 22/30\n",
            "6000/6000 [==============================] - 15s 3ms/step - loss: 0.0022 - accuracy: 0.7232 - val_loss: 0.0126 - val_accuracy: 0.7269\n",
            "Epoch 23/30\n",
            "6000/6000 [==============================] - 15s 3ms/step - loss: 0.0022 - accuracy: 0.7208 - val_loss: 0.0126 - val_accuracy: 0.7247\n",
            "Epoch 24/30\n",
            "6000/6000 [==============================] - 15s 3ms/step - loss: 0.0021 - accuracy: 0.7356 - val_loss: 0.0126 - val_accuracy: 0.7230\n",
            "Epoch 25/30\n",
            "6000/6000 [==============================] - 15s 3ms/step - loss: 0.0020 - accuracy: 0.7350 - val_loss: 0.0131 - val_accuracy: 0.7304\n",
            "Epoch 26/30\n",
            "6000/6000 [==============================] - 16s 3ms/step - loss: 0.0019 - accuracy: 0.7348 - val_loss: 0.0119 - val_accuracy: 0.7240\n",
            "Epoch 27/30\n",
            "6000/6000 [==============================] - 15s 3ms/step - loss: 0.0019 - accuracy: 0.7253 - val_loss: 0.0119 - val_accuracy: 0.7108\n",
            "Epoch 28/30\n",
            "6000/6000 [==============================] - 15s 3ms/step - loss: 0.0019 - accuracy: 0.7184 - val_loss: 0.0124 - val_accuracy: 0.7088\n",
            "Epoch 29/30\n",
            "6000/6000 [==============================] - 15s 3ms/step - loss: 0.0017 - accuracy: 0.7188 - val_loss: 0.0125 - val_accuracy: 0.7211\n",
            "Epoch 30/30\n",
            "6000/6000 [==============================] - 15s 3ms/step - loss: 0.0018 - accuracy: 0.7272 - val_loss: 0.0123 - val_accuracy: 0.7148\n",
            "Test loss: 0.012288043275475502\n",
            "Test accuracy: 0.7148000001907349\n"
          ]
        }
      ],
      "source": [
        "# based on https://www.sitepoint.com/keras-digit-recognition-tutorial/\n",
        "\n",
        "import tensorflow as tf\n",
        "from tensorflow import keras\n",
        "from tensorflow.keras import layers\n",
        "import keras.datasets.mnist as kdm\n",
        "from keras.utils import to_categorical\n",
        "\n",
        "\n",
        "(x_train, y_train), (x_test, y_test) = kdm.load_data()\n",
        "\n",
        "\n",
        "# reshape\n",
        "img_rows, img_cols = 28, 28\n",
        "# normalize inputs to between 0 and 1\n",
        "import numpy as np\n",
        "x_train = np.true_divide(x_train, 255)\n",
        "x_test = np.true_divide(x_test, 255)\n",
        "x_train = x_train.reshape(x_train.shape[0], img_rows, img_cols, 1)\n",
        "x_test = x_test.reshape(x_test.shape[0], img_rows, img_cols, 1)\n",
        "\n",
        "# convert to vector outputs \n",
        "num_classes = 10\n",
        "y_train = to_binary(y_train)\n",
        "y_test = to_binary(y_test)\n",
        "\n",
        "y_train = np.array(y_train).reshape(60000, 4)\n",
        "y_test = np.array(y_test).reshape(10000, 4)\n",
        "\n",
        "model = keras.models.Sequential([\n",
        "  layers.Flatten(input_shape=(28,28)),\n",
        "  layers.Dense(100, activation='sigmoid'),\n",
        "  layers.Dense(10, activation='sigmoid'),\n",
        "  layers.Dense(4, activation='sigmoid'),\n",
        "])\n",
        "\n",
        "model.compile(loss='mean_squared_error',\n",
        "      optimizer='adam',\n",
        "      metrics=['accuracy'])\n",
        "\n",
        "model.fit(x_train, y_train,\n",
        "          batch_size=10,\n",
        "          epochs=30,\n",
        "          verbose=1,\n",
        "          validation_data=(x_test, y_test))\n",
        "score = model.evaluate(x_test, y_test, verbose=0)\n",
        "\n",
        "print('Test loss:', score[0])\n",
        "print('Test accuracy:', score[1])\n",
        "model.save(\"test_model.h5\")"
      ]
    }
  ],
  "metadata": {
    "colab": {
      "provenance": [],
      "include_colab_link": true
    },
    "kernelspec": {
      "display_name": "Python 3 (ipykernel)",
      "language": "python",
      "name": "python3"
    },
    "language_info": {
      "codemirror_mode": {
        "name": "ipython",
        "version": 3
      },
      "file_extension": ".py",
      "mimetype": "text/x-python",
      "name": "python",
      "nbconvert_exporter": "python",
      "pygments_lexer": "ipython3",
      "version": "3.10.9"
    }
  },
  "nbformat": 4,
  "nbformat_minor": 0
}