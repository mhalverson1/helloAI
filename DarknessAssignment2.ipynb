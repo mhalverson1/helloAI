{
  "nbformat": 4,
  "nbformat_minor": 0,
  "metadata": {
    "colab": {
      "provenance": [],
      "include_colab_link": true
    },
    "kernelspec": {
      "name": "python3",
      "display_name": "Python 3"
    },
    "language_info": {
      "name": "python"
    }
  },
  "cells": [
    {
      "cell_type": "markdown",
      "metadata": {
        "id": "view-in-github",
        "colab_type": "text"
      },
      "source": [
        "<a href=\"https://colab.research.google.com/github/mhalverson1/helloAI/blob/main/DarknessAssignment2.ipynb\" target=\"_parent\"><img src=\"https://colab.research.google.com/assets/colab-badge.svg\" alt=\"Open In Colab\"/></a>"
      ]
    },
    {
      "cell_type": "code",
      "execution_count": null,
      "metadata": {
        "id": "dpxN2GRIAUIN",
        "outputId": "0085eb7c-380c-411b-eecf-328eef57f481",
        "colab": {
          "base_uri": "https://localhost:8080/"
        }
      },
      "outputs": [
        {
          "output_type": "stream",
          "name": "stdout",
          "text": [
            "Downloading data from https://storage.googleapis.com/tensorflow/tf-keras-datasets/mnist.npz\n",
            "11490434/11490434 [==============================] - 0s 0us/step\n"
          ]
        }
      ],
      "source": [
        "import numpy as np\n",
        "from tensorflow.keras.datasets import mnist\n",
        "np.set_printoptions(linewidth=np.inf)\n",
        "(X_train, Y_train), (X_test, Y_test) = mnist.load_data()\n"
      ]
    },
    {
      "cell_type": "code",
      "source": [
        "print(X_train.shape)\n",
        "print(Y_train.shape)\n",
        "print(X_train[0].shape)\n",
        "print(X_train[2])\n",
        "print(Y_train[2])\n",
        "\n",
        "# example: pre-process to convert into valid inputs for a neural network\n",
        "listof10s = [(x+1)*10 for x in range(10)]\n",
        "print(listof10s)\n",
        "X_train_2d = [x/255.0 for x in X_train]\n",
        "print(X_train_2d[2])\n",
        "\n",
        "# example: convert each image into 1d \"flattened\" vector of inputs\n",
        "X_train_flat = np.reshape(X_train_2d, (60000,784,1))\n",
        "print(X_train_flat[2])"
      ],
      "metadata": {
        "id": "veWxSakNQ3My"
      },
      "execution_count": null,
      "outputs": []
    },
    {
      "cell_type": "code",
      "source": [
        "# use matplotlib to draw the first 10 images in 2 rows and 5 cols\n",
        "# use/modify the code here: https://medium.com/the-data-science-publication/how-to-plot-mnist-digits-using-matplotlib-65a2e0cc068\n",
        "images = X_train[0:10]\n"
      ],
      "metadata": {
        "id": "LP6sSQ6sTKJ5"
      },
      "execution_count": null,
      "outputs": []
    },
    {
      "cell_type": "code",
      "source": [
        "# count how many digits are in Y_train\n",
        "counts = [0]*10\n",
        "for y in Y_train:\n",
        "  counts[y] = counts[y] + 1\n",
        "print(counts)\n",
        "\n",
        "# count how manyu digits are in Y_test\n",
        "t_counts = [0]*10\n",
        "for y in Y_test:\n",
        "  t_counts[y] = t_counts[y] + 1\n",
        "print(t_counts)"
      ],
      "metadata": {
        "colab": {
          "base_uri": "https://localhost:8080/"
        },
        "id": "wqBr2YZ-U2IT",
        "outputId": "1c87d0ad-c91a-4882-f098-bfe3ecc8ab7c"
      },
      "execution_count": null,
      "outputs": [
        {
          "output_type": "stream",
          "name": "stdout",
          "text": [
            "[5923, 6742, 5958, 6131, 5842, 5421, 5918, 6265, 5851, 5949]\n",
            "[980, 1135, 1032, 1010, 982, 892, 958, 1028, 974, 1009]\n"
          ]
        }
      ]
    },
    {
      "cell_type": "code",
      "source": [
        "# create a function that calculates the darkness of a single image\n",
        "# only works on 28x28 images\n",
        "def calcDarkness(x):\n",
        "  total = 0\n",
        "  for r in range(28):\n",
        "    for c in range(28):\n",
        "      total = total + x[r][c]\n",
        "  return total"
      ],
      "metadata": {
        "id": "NZM2RBQYWGs7"
      },
      "execution_count": null,
      "outputs": []
    },
    {
      "cell_type": "code",
      "source": [
        "# test our darkness function\n",
        "print(calcDarkness(X_train[0]))\n",
        "print(Y_train[0])\n",
        "darknesses = [0]*10\n",
        "# loop through all the training images\n",
        "for x, y in zip(X_train, Y_train):\n",
        "  darkness = calcDarkness(x)\n",
        "  darknesses[y] = darknesses[y] + darkness \n",
        "\n",
        "darknesses1 = [darknesstotal/counts[i] for i, darknesstotal in enumerate(darknesses)]\n",
        "darknesses2 = [dt/cnt for cnt, dt in zip(counts, darknesses)]\n",
        "print(darknesses1)\n",
        "print(darknesses2)\n",
        "darknesses=darknesses1"
      ],
      "metadata": {
        "colab": {
          "base_uri": "https://localhost:8080/"
        },
        "id": "pMOOyzB-W038",
        "outputId": "3bbc17dc-a169-4394-f298-5551eb9721b1"
      },
      "execution_count": null,
      "outputs": [
        {
          "output_type": "stream",
          "name": "stdout",
          "text": [
            "27525\n",
            "5\n",
            "[34665.99307783218, 15193.648620587363, 29783.10775427996, 28294.706246941772, 24263.40893529613, 25739.57885998893, 27449.37090233187, 22896.377334397446, 30019.183900188003, 24508.181375021013]\n",
            "[34665.99307783218, 15193.648620587363, 29783.10775427996, 28294.706246941772, 24263.40893529613, 25739.57885998893, 27449.37090233187, 22896.377334397446, 30019.183900188003, 24508.181375021013]\n"
          ]
        }
      ]
    },
    {
      "cell_type": "code",
      "source": [
        "# use matplot lib to plot the average darkness of each digit ... \n",
        "# this is NOT part of the assignment, but it gives you some example code for working with matplotlib\n",
        "import matplotlib.pyplot as plt\n",
        "fig, ax = plt.subplots(figsize=(25, 8))\n",
        "digits = [f\"{i}\" for i in range(10)]\n",
        "p1 = ax.bar(digits,darknesses, label=\"darkness\")\n",
        "p2, = ax.plot(digits,darknesses, color='orange', label=\"darkness\", marker='o')\n",
        "ax.legend(handles=[p1, p2],loc='upper right',title='config') \n",
        "ax.set_xlabel(\"digit\")\n",
        "ax.set_ylabel(\"average darkness\")\n",
        "plt.title(\"example: digit average darkness\")\n",
        "plt.show()"
      ],
      "metadata": {
        "id": "DxIWJpetV3gW"
      },
      "execution_count": null,
      "outputs": []
    },
    {
      "cell_type": "code",
      "source": [
        "def findClosest(darkness):\n",
        "  diffs = darknesses-darkness\n",
        "  return np.argmin(np.abs(diffs))"
      ],
      "metadata": {
        "id": "WUdxwjW63FUU"
      },
      "execution_count": null,
      "outputs": []
    },
    {
      "cell_type": "code",
      "source": [
        "accuracies = [0]*10\n",
        "for i in range(len(X_test)):\n",
        "  x = X_test[i]\n",
        "  label = Y_test[i]\n",
        "  darknessX = calcDarkness(x)\n",
        "  predictedlabel = findClosest(darknessX)\n",
        "  if\n",
        "    accuracies[label] += 1\n",
        "  # ... now you should take the darkness you calculated for this image … compare it to  the other “average” darknesses for each digit\n",
        "  # ... pick the digit that this darkness is closest to\n",
        "  # ... does that digit match the label? If so, increment a count of how many images you’ve classified correctly ...\n",
        "  # ... note that there are 10 different accuracy counts (one for each digit, so every time you get a prediction correct, update the appropriate accuracy count)\n",
        "\n",
        "# now put your pyplot here AFTER the for loop (i.e., not indented)\n",
        "# use the digits below as the x axis and your accuracies as the y axis\n",
        "\n",
        "# setup the x-axis\n",
        "digits = [f\"{i}\" for i in range(10)] # list comprehension that creates the digits as strings so that they all show up on the x axis\n",
        "\n",
        "# look at the examples to see how to plot something once you have the x-axis (digits) and the y-axis (accuracies)\n",
        "import matplotlib.pyplot as plt\n",
        "fig, ax = plt.subplots(figsize=(25, 8))\n",
        "print(digits)\n",
        "ax.bar(digits,accuracies, label=\"accuracies (raw count)\")\n",
        "ax.set_xlabel(\"digit\")\n",
        "ax.set_ylabel(\"total correct\")\n",
        "plt.title(\"example: digit \\\"correctness\\\"\")\n",
        "plt.show()"
      ],
      "metadata": {
        "colab": {
          "base_uri": "https://localhost:8080/",
          "height": 531
        },
        "id": "c1bK4Sr93BhP",
        "outputId": "b4566833-50ee-4a36-fdbe-147dcda01f10"
      },
      "execution_count": null,
      "outputs": [
        {
          "output_type": "stream",
          "name": "stdout",
          "text": [
            "['0', '1', '2', '3', '4', '5', '6', '7', '8', '9']\n"
          ]
        },
        {
          "output_type": "display_data",
          "data": {
            "text/plain": [
              "<Figure size 1800x576 with 1 Axes>"
            ],
            "image/png": "[encoded data removed]"
          },
          "metadata": {
            "needs_background": "light"
          }
        }
      ]
    }
  ]
}